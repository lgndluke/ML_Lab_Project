{
 "cells": [
  {
   "cell_type": "markdown",
   "id": "4adf82826d5bbc32",
   "metadata": {},
   "source": [
    "# **Machine Learning - Lab-Project**"
   ]
  },
  {
   "cell_type": "markdown",
   "id": "6f62e598-69c0-45b9-8cd0-0c65539184bf",
   "metadata": {},
   "source": [
    "---"
   ]
  },
  {
   "cell_type": "markdown",
   "id": "4d687d08-a074-46f7-a368-5abc7de20b2b",
   "metadata": {},
   "source": [
    "Lab-Project of **Group X**.\n",
    "\n",
    "**Members:**\n",
    "- Member 1 <br>\n",
    "- Member 2 <br>\n",
    "- Member 3 <br>\n",
    "- Member 4 <br>\n",
    "- Member 5 <br>"
   ]
  },
  {
   "cell_type": "markdown",
   "id": "3c075491-3b42-4611-ab6a-a8626b90fd1a",
   "metadata": {},
   "source": [
    "---"
   ]
  },
  {
   "cell_type": "markdown",
   "id": "bc0ded7a-b5c7-43c4-9722-5470a37cab0d",
   "metadata": {},
   "source": [
    "## **//TODO ADD Lab-Project Topic**\n",
    "\n",
    "\n",
    "#### //TODO Explain Lab-Project topic, as well as goal of Lab-Project."
   ]
  },
  {
   "cell_type": "markdown",
   "id": "ef68ea45-0205-49d8-843c-dabd3fd3d443",
   "metadata": {},
   "source": [
    "---"
   ]
  },
  {
   "cell_type": "markdown",
   "id": "24a198d1-4e58-47dc-b355-22e1b121315d",
   "metadata": {},
   "source": [
    "## **1. Imports and Random**"
   ]
  },
  {
   "cell_type": "markdown",
   "id": "0fc9483d-b78f-4b7b-bab6-09f8737625e5",
   "metadata": {},
   "source": [
    "---"
   ]
  },
  {
   "cell_type": "markdown",
   "id": "2e94a404-df96-491f-9fd1-62591a3b2c0c",
   "metadata": {},
   "source": [
    "#### 1.1 Adding the neccessary imports:"
   ]
  },
  {
   "cell_type": "code",
   "execution_count": 1,
   "id": "initial_id",
   "metadata": {
    "jupyter": {
     "is_executing": true
    }
   },
   "outputs": [],
   "source": [
    "import numpy as np\n",
    "import pandas as pd\n",
    "import matplotlib.pyplot as plt\n",
    "\n",
    "# Further imports (sklearn specific)"
   ]
  },
  {
   "cell_type": "markdown",
   "id": "00714bbb-28ad-4689-b0c3-563fb33e0ce3",
   "metadata": {},
   "source": [
    "#### 1.2 Definition of Random-Seed:"
   ]
  },
  {
   "cell_type": "code",
   "execution_count": 2,
   "id": "f109810e-7ef2-4a51-b819-0fc00a846789",
   "metadata": {},
   "outputs": [],
   "source": [
    "RSEED = np.random.seed(42)"
   ]
  },
  {
   "cell_type": "markdown",
   "id": "b15a435a-32f8-4453-9ea6-132d04743e5f",
   "metadata": {},
   "source": [
    "## **2. Data Visualization & Preperation**"
   ]
  },
  {
   "cell_type": "markdown",
   "id": "1f9a8b88-5366-4d7d-ac6b-73285436e003",
   "metadata": {},
   "source": [
    "---"
   ]
  },
  {
   "cell_type": "markdown",
   "id": "e3710982-6954-45aa-a6f6-fba83ce9c190",
   "metadata": {},
   "source": [
    "#### Maybe add something along those lines here\n",
    "\n",
    "We have found this super cool and fancy dataset here: [Click-Me](https://www.kaggle.com/)\n",
    "\n",
    "We decided to use this dataset for reason xyz."
   ]
  },
  {
   "cell_type": "markdown",
   "id": "ac046e91-4632-4d43-a85c-a2e5996a15ac",
   "metadata": {},
   "source": [
    "#### 2.1 Importing the data into a dataframe:"
   ]
  },
  {
   "cell_type": "code",
   "execution_count": 3,
   "id": "5e8fd682-bdc3-4841-8b93-d64a10fde515",
   "metadata": {},
   "outputs": [],
   "source": [
    "# Import the data and visualize the first few entries."
   ]
  },
  {
   "cell_type": "markdown",
   "id": "0624a2f4-834a-40e2-8339-489267ef4d24",
   "metadata": {},
   "source": [
    "#### 2.2 Cleaning the data:"
   ]
  },
  {
   "cell_type": "code",
   "execution_count": null,
   "id": "df40f19a-ec36-4cef-a313-bf75af459ef3",
   "metadata": {},
   "outputs": [],
   "source": []
  },
  {
   "cell_type": "code",
   "execution_count": null,
   "id": "42f9a0a1-bd71-4196-982f-d1578622c9cd",
   "metadata": {},
   "outputs": [],
   "source": []
  },
  {
   "cell_type": "code",
   "execution_count": null,
   "id": "f76e69a7-d1cc-4203-9729-ea5da3b9fe7f",
   "metadata": {},
   "outputs": [],
   "source": []
  },
  {
   "cell_type": "code",
   "execution_count": null,
   "id": "c558fa98-979e-4afc-8f45-5f5b0555e0a3",
   "metadata": {},
   "outputs": [],
   "source": []
  },
  {
   "cell_type": "code",
   "execution_count": null,
   "id": "f29fa8ff-bc59-452d-9139-a864abd7bf5a",
   "metadata": {},
   "outputs": [],
   "source": []
  },
  {
   "cell_type": "code",
   "execution_count": null,
   "id": "1ea681b1-34d9-42b5-a1b1-a6682ef4a73f",
   "metadata": {},
   "outputs": [],
   "source": []
  },
  {
   "cell_type": "code",
   "execution_count": null,
   "id": "34031a8c-4040-4171-83b4-fc8f4abecf17",
   "metadata": {},
   "outputs": [],
   "source": []
  }
 ],
 "metadata": {
  "kernelspec": {
   "display_name": "Python 3 (ipykernel)",
   "language": "python",
   "name": "python3"
  },
  "language_info": {
   "codemirror_mode": {
    "name": "ipython",
    "version": 3
   },
   "file_extension": ".py",
   "mimetype": "text/x-python",
   "name": "python",
   "nbconvert_exporter": "python",
   "pygments_lexer": "ipython3",
   "version": "3.12.7"
  }
 },
 "nbformat": 4,
 "nbformat_minor": 5
}
